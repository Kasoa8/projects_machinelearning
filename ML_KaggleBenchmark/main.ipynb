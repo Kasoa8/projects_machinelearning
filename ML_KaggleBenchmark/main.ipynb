{
 "cells": [
  {
   "cell_type": "markdown",
   "metadata": {},
   "source": []
  },
  {
   "cell_type": "code",
   "execution_count": 1,
   "metadata": {},
   "outputs": [],
   "source": [
    "import os\n",
    "import pandas as pd"
   ]
  },
  {
   "cell_type": "code",
   "execution_count": 2,
   "metadata": {},
   "outputs": [],
   "source": [
    "def setup_working_directory():\n",
    "    \"\"\"\n",
    "    Sets up the working directory by detecting the current working directory\n",
    "    and listing the folders in it. Creates global variables for each folder.\n",
    "\n",
    "    Returns:\n",
    "    None\n",
    "    \"\"\"\n",
    "    current_dir = os.getcwd()\n",
    "    global folder_paths\n",
    "    folder_paths = {folder: os.path.join(current_dir, folder) for folder in os.listdir(current_dir) if os.path.isdir(os.path.join(current_dir, folder))}\n",
    "    \n",
    "    for folder_name, folder_path in folder_paths.items():\n",
    "        globals()[folder_name] = folder_path\n",
    "    \n",
    "    # Print the folder paths\n",
    "    print(\"Folder paths:\", folder_paths)\n",
    "\n",
    "def gather_dataframes():\n",
    "    \"\"\"\n",
    "    Gathers dataframes from all files in the specified folders.\n",
    "    Creates global variables for each dataframe.\n",
    "\n",
    "    Returns:\n",
    "    None\n",
    "    \"\"\"\n",
    "    gathered_dataframes = []\n",
    "    for folder_name, folder_path in folder_paths.items():\n",
    "        for file in os.listdir(folder_path):\n",
    "            file_path = os.path.join(folder_path, file)\n",
    "            if file.endswith('.csv'):\n",
    "                df_name = os.path.splitext(file)[0]\n",
    "                globals()[df_name] = pd.read_csv(file_path)\n",
    "                gathered_dataframes.append(df_name)\n",
    "            elif file.endswith('.xlsx'):\n",
    "                df_name = os.path.splitext(file)[0]\n",
    "                globals()[df_name] = pd.read_excel(file_path)\n",
    "                gathered_dataframes.append(df_name)\n",
    "            else:\n",
    "                raise ValueError(f\"Unsupported file format for {file_path}.\")\n",
    "    \n",
    "    # Print the gathered dataframes\n",
    "    print(\"Dataframes gathered:\", gathered_dataframes)"
   ]
  },
  {
   "cell_type": "code",
   "execution_count": 5,
   "metadata": {},
   "outputs": [
    {
     "name": "stdout",
     "output_type": "stream",
     "text": [
      "Folder paths: {'Data': 'c:\\\\Users\\\\carle\\\\Desktop\\\\5_projects\\\\projects_machinelearning\\\\ML_KaggleBenchmark\\\\Data'}\n",
      "Dataframes gathered: ['ts_beer', 'ts_google', 'ts_house', 'ts_kaggle_data', 'ts_kaggle_predict', 'ts_kaggle_sales_test_mean', 'ts_kaggle_sales_train_merged', 'ts_kaggle_train', 'ts_lynx', 'ts_passangers', 'ts_prophet', 'ts_rw']\n"
     ]
    }
   ],
   "source": [
    "setup_working_directory()\n",
    "gather_dataframes()"
   ]
  },
  {
   "cell_type": "code",
   "execution_count": 8,
   "metadata": {},
   "outputs": [],
   "source": [
    "df = \"ts_kaggle_train.csv\""
   ]
  }
 ],
 "metadata": {
  "kernelspec": {
   "display_name": "Python 3",
   "language": "python",
   "name": "python3"
  },
  "language_info": {
   "codemirror_mode": {
    "name": "ipython",
    "version": 3
   },
   "file_extension": ".py",
   "mimetype": "text/x-python",
   "name": "python",
   "nbconvert_exporter": "python",
   "pygments_lexer": "ipython3",
   "version": "3.12.4"
  }
 },
 "nbformat": 4,
 "nbformat_minor": 2
}
